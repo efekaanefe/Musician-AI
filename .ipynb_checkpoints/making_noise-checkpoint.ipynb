{
 "cells": [
  {
   "cell_type": "code",
   "execution_count": 1,
   "id": "275fc901",
   "metadata": {},
   "outputs": [],
   "source": [
    "from random import choice\n",
    "import time\n",
    "\n",
    "KEYS = [\"C\", \"C#\", \"Db\", \"D\", \"D#\", \"Eb\", \"E\", \"F\", \"F#\", \"Gb\", \"G\", \"G#\", \"Ab\", \"A\", \"A#\", \"Bb\", \"B\"]\n"
   ]
  },
  {
   "cell_type": "markdown",
   "id": "d9b962b3",
   "metadata": {
    "jp-MarkdownHeadingCollapsed": true
   },
   "source": [
    "## musical beeps\n"
   ]
  },
  {
   "cell_type": "code",
   "execution_count": 2,
   "id": "7f510384",
   "metadata": {},
   "outputs": [],
   "source": [
    "import musicalbeeps\n",
    "\n",
    "player = musicalbeeps.Player(volume = 0.3, mute_output = False)"
   ]
  },
  {
   "cell_type": "code",
   "execution_count": 3,
   "id": "87dec874",
   "metadata": {},
   "outputs": [
    {
     "name": "stdout",
     "output_type": "stream",
     "text": [
      "Playing B (493.88 Hz) for 0.2s\n",
      "Playing B (493.88 Hz) for 0.5s\n",
      "Playing F5# (739.99 Hz) for 0.5s\n",
      "Pausing for 3.5s\n"
     ]
    }
   ],
   "source": [
    "# To play an A on default octave n°4 for 0.2 seconds\n",
    "player.play_note(choice(KEYS), 0.2)\n",
    "\n",
    "# To play a G flat on octave n°3 for 2.5 seconds\n",
    "player.play_note(choice(KEYS), 0.5)\n",
    "\n",
    "# To play a F sharp on octave n°5 for the default duration of 0.5 seconds\n",
    "player.play_note(\"F5#\")\n",
    "\n",
    "# To pause the player for 3.5 seconds\n",
    "player.play_note(\"pause\", 3.5)"
   ]
  },
  {
   "cell_type": "markdown",
   "id": "99716f1e",
   "metadata": {
    "jp-MarkdownHeadingCollapsed": true
   },
   "source": [
    "## MIDIFile"
   ]
  },
  {
   "cell_type": "code",
   "execution_count": 4,
   "id": "071d1391",
   "metadata": {},
   "outputs": [],
   "source": [
    "from midiutil import MIDIFile\n",
    "\n",
    "degrees  = [60, 62, 64, 65, 67, 69, 71, 72]  # MIDI note number\n",
    "track    = 0\n",
    "channel  = 0\n",
    "time     = 0    # In beats\n",
    "duration = 1    # In beats\n",
    "tempo    = 60   # In BPM\n",
    "volume   = 100  # 0-127, as per the MIDI standard\n",
    "\n",
    "MyMIDI = MIDIFile(1)  # One track, defaults to format 1 (tempo track is created\n",
    "                      # automatically)\n",
    "MyMIDI.addTempo(track, time, tempo)\n",
    "\n",
    "for i, pitch in enumerate(degrees):\n",
    "    MyMIDI.addNote(track, channel, pitch, time + i, duration, volume)\n",
    "\n",
    "with open(\"major-scale.mid\", \"wb\") as output_file:\n",
    "    MyMIDI.writeFile(output_file)"
   ]
  },
  {
   "cell_type": "code",
   "execution_count": 5,
   "id": "d6c7dbaf",
   "metadata": {},
   "outputs": [
    {
     "data": {
      "text/plain": [
       "'\\nfrom pyo import *\\ns = Server().boot()\\na = Sine(440, 0, 0.1).out()\\ns.start()\\ntime.sleep(1)\\ns.stop()\\n'"
      ]
     },
     "execution_count": 5,
     "metadata": {},
     "output_type": "execute_result"
    }
   ],
   "source": [
    "\"\"\"\n",
    "from pyo import *\n",
    "s = Server().boot()\n",
    "a = Sine(440, 0, 0.1).out()\n",
    "s.start()\n",
    "time.sleep(1)\n",
    "s.stop()\n",
    "\"\"\"\n"
   ]
  },
  {
   "cell_type": "markdown",
   "id": "f8be7ed5-70fd-4c7c-8863-3271c21b61db",
   "metadata": {},
   "source": [
    "## scamp"
   ]
  },
  {
   "cell_type": "code",
   "execution_count": 20,
   "id": "9e322bc5",
   "metadata": {
    "scrolled": true
   },
   "outputs": [
    {
     "name": "stdout",
     "output_type": "stream",
     "text": [
      "Using preset Clarinet for clarinet\n",
      "Using preset Oboe for oboe\n",
      "Using preset Jazz Guitar for guitar\n",
      "Using preset Piano Merlin for piano\n",
      "Using preset Violin LP3 for violin\n"
     ]
    }
   ],
   "source": [
    "from scamp import *\n",
    "\n",
    "#s = Session().run_as_server() # plays the notes at the same time\n",
    "s = Session()\n",
    "\n",
    "#s.print_default_soundfont_presets()\n",
    "\n",
    "clarinet = s.new_part(\"clarinet\")\n",
    "oboe = s.new_part(\"oboe\")\n",
    "guitar = s.new_part(\"guitar\")\n",
    "piano = s.new_part(\"piano\")\n",
    "violin = s.new_part(\"violin\")\n",
    "\n"
   ]
  },
  {
   "cell_type": "code",
   "execution_count": 21,
   "id": "379ca771-d1e0-4551-a54f-73474d83a2fe",
   "metadata": {},
   "outputs": [],
   "source": [
    "piano.play_chord([70, 90], 1, 1)"
   ]
  },
  {
   "cell_type": "code",
   "execution_count": 22,
   "id": "e827c2d8",
   "metadata": {},
   "outputs": [
    {
     "name": "stderr",
     "output_type": "stream",
     "text": [
      "WARNING:root:Clock MASTER (beat=1.0) is running noticeably behind real time (0.19349 s) on a wait call of 0.2 s; probably processing is too heavy.\n"
     ]
    }
   ],
   "source": [
    "for _ in range(2):\n",
    "    piano.play_note(65, 0.8, 3, blocking=False)\n",
    "    piano.play_note(60, 0.8, 0.5)\n",
    "    piano.play_note(70, 0.8, 1.5)\n",
    "    piano.play_note(78, 0.8, 2)\n",
    "    piano.play_note(77, 0.8, 1.5)\n",
    "    piano.play_note(75, 0.8, 0.5)    "
   ]
  },
  {
   "cell_type": "code",
   "execution_count": 4,
   "id": "67d5c10f",
   "metadata": {},
   "outputs": [
    {
     "name": "stderr",
     "output_type": "stream",
     "text": [
      "WARNING:root:Clock MASTER (beat=12.0) is running noticeably behind real time (7.93873 s) on a wait call of 0.5 s; probably processing is too heavy.\n"
     ]
    }
   ],
   "source": [
    "for pitch in range(70,88):\n",
    "    piano.play_note(pitch, 0.8, 0.5, blocking=True)"
   ]
  }
 ],
 "metadata": {
  "kernelspec": {
   "display_name": "Python 3 (ipykernel)",
   "language": "python",
   "name": "python3"
  },
  "language_info": {
   "codemirror_mode": {
    "name": "ipython",
    "version": 3
   },
   "file_extension": ".py",
   "mimetype": "text/x-python",
   "name": "python",
   "nbconvert_exporter": "python",
   "pygments_lexer": "ipython3",
   "version": "3.11.4"
  }
 },
 "nbformat": 4,
 "nbformat_minor": 5
}
