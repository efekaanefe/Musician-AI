{
 "cells": [
  {
   "cell_type": "code",
   "execution_count": 1,
   "id": "00b0d6b7-9dd4-4d78-8c06-cbda5ad138b5",
   "metadata": {},
   "outputs": [
    {
     "name": "stderr",
     "output_type": "stream",
     "text": [
      "WARNING:root:python-rtmidi was not found; streaming midi input / output will not be available.\n",
      "WARNING:root:pynput was not found; mouse and keyboard input will not be available.\n"
     ]
    }
   ],
   "source": [
    "# http://scamp.marcevanstein.com/narrative/tutorial_videos.html#video-tutorials\n",
    "from random import choice, randint\n",
    "import time\n",
    "from scamp import *\n",
    "import numpy as np"
   ]
  },
  {
   "cell_type": "code",
   "execution_count": 2,
   "id": "3e708736-7427-44ca-a62b-8edac6d136d2",
   "metadata": {},
   "outputs": [],
   "source": [
    "KEYS = [\"C\", \"C#\", \"Db\", \"D\", \"D#\", \"Eb\", \"E\", \"F\", \"F#\", \"Gb\", \"G\", \"G#\", \"Ab\", \"A\", \"A#\", \"Bb\", \"B\"]"
   ]
  },
  {
   "cell_type": "code",
   "execution_count": 3,
   "id": "45cbd9f0-788a-428c-976e-da2398c09090",
   "metadata": {},
   "outputs": [
    {
     "name": "stdout",
     "output_type": "stream",
     "text": [
      "PRESETS FOR default (general_midi)\n",
      "   Preset[000:047] Timpani Half 2 bag(s) from #0\n",
      "   Preset[000:051] Synth Str 2 3 bag(s) from #2\n",
      "   Preset[000:009] Glockenspiel 2 bag(s) from #5\n",
      "   Preset[000:048] Strings SP1 2 bag(s) from #7\n",
      "   Preset[000:073] Flute Gold 2 bag(s) from #9\n",
      "   Preset[000:075] Pan Flute 2 bag(s) from #11\n",
      "   Preset[000:001] Bright Piano 2 bag(s) from #13\n",
      "   Preset[000:000] Piano Merlin 6 bag(s) from #15\n",
      "   Preset[000:049] Slow Strings SP 2 bag(s) from #21\n",
      "   Preset[000:060] French Horns 2 bag(s) from #23\n",
      "   Preset[128:048] Orchestra 2 bag(s) from #25\n",
      "   Preset[128:032] Jazz 2 bag(s) from #27\n",
      "   Preset[128:025] TR 808 2 bag(s) from #29\n",
      "   Preset[128:016] Power 2 bag(s) from #31\n",
      "   Preset[128:000] Standard 2 bag(s) from #33\n",
      "   Preset[000:044] Tremolande 2 bag(s) from #35\n",
      "   Preset[000:046] Harp LP2 2 bag(s) from #37\n",
      "   Preset[000:045] Pizzicato Strings 2 bag(s) from #39\n",
      "   Preset[000:025] Steel Guitar PH 2 bag(s) from #41\n",
      "   Preset[000:065] Alto SAX 2 bag(s) from #43\n",
      "   Preset[000:067] Baritone Sax 2 bag(s) from #45\n",
      "   Preset[000:066] Tenor Sax New 2 bag(s) from #47\n",
      "   Preset[000:024] Guitar Nylon X 2 bag(s) from #49\n",
      "   Preset[000:022] Harmonica 2 bag(s) from #51\n",
      "   Preset[000:041] Viola LP 2 bag(s) from #53\n",
      "   Preset[000:064] Soprano Sax 3 bag(s) from #55\n",
      "   Preset[000:026] Jazz Guitar 2 bag(s) from #58\n",
      "   Preset[000:013] Xylophone 3 bag(s) from #60\n",
      "   Preset[000:012] Marimba 2 bag(s) from #63\n",
      "   Preset[000:050] Synth Strings 1 2 bag(s) from #65\n",
      "   Preset[000:019] Church Organ 2 4 bag(s) from #67\n",
      "   Preset[000:043] Contrabass 2 bag(s) from #71\n",
      "   Preset[000:042] Cello LP 3 bag(s) from #73\n",
      "   Preset[000:040] Violin LP3 2 bag(s) from #76\n",
      "   Preset[000:068] Oboe 2 bag(s) from #78\n",
      "   Preset[000:071] Clarinet 2 bag(s) from #80\n",
      "   Preset[000:070] Bassoon (Rea) 2 bag(s) from #82\n",
      "   Preset[000:069] English Horn (Rea) 2 bag(s) from #84\n",
      "   Preset[000:002] Piano 3 3 bag(s) from #86\n",
      "   Preset[000:003] Honky Tonk 3 bag(s) from #89\n",
      "   Preset[000:004] E.Piano 1 3 bag(s) from #92\n",
      "   Preset[000:005] E.Piano 2 2 bag(s) from #95\n",
      "   Preset[000:007] Clavinet 2 bag(s) from #97\n",
      "   Preset[000:008] Celesta 2 bag(s) from #99\n",
      "   Preset[000:010] Music Box 2 bag(s) from #101\n",
      "   Preset[000:011] Vibraphone 2 bag(s) from #103\n",
      "   Preset[000:014] Tubular Bells 2 bag(s) from #105\n",
      "   Preset[000:015] Dulcimer 2 bag(s) from #107\n",
      "   Preset[000:016] Organ 1 2 bag(s) from #109\n",
      "   Preset[000:017] Organ 2 2 bag(s) from #111\n",
      "   Preset[000:018] Organ 3 3 bag(s) from #113\n",
      "   Preset[000:020] Reed Organ 3 bag(s) from #116\n",
      "   Preset[000:021] Accordion 3 bag(s) from #119\n",
      "   Preset[000:023] Bandoneon 2 bag(s) from #122\n",
      "   Preset[000:027] Clean Guitar 2 bag(s) from #124\n",
      "   Preset[000:028] Guitar Mutes 2 bag(s) from #126\n",
      "   Preset[000:029] Overdrive Guitar 2 bag(s) from #128\n",
      "   Preset[000:030] DistortionGuitar 2 bag(s) from #130\n",
      "   Preset[000:031] Guitar Harmonics 2 bag(s) from #132\n",
      "   Preset[000:032] Acoustic Bass 2 bag(s) from #134\n",
      "   Preset[000:033] Fingered Bass 2 bag(s) from #136\n",
      "   Preset[000:034] Picked Bass 2 bag(s) from #138\n",
      "   Preset[000:035] Fretless Bass 2 bag(s) from #140\n",
      "   Preset[000:036] Slap Bass 1 2 bag(s) from #142\n",
      "   Preset[000:037] Slap Bass 2 2 bag(s) from #144\n",
      "   Preset[000:038] Synth Bass 1 2 bag(s) from #146\n",
      "   Preset[000:039] Synth Bass 2 2 bag(s) from #148\n",
      "   Preset[000:052] Choir Aahs 4 bag(s) from #150\n",
      "   Preset[000:053] Voice Oohs 3 bag(s) from #154\n",
      "   Preset[000:054] Synth Vox 2 bag(s) from #157\n",
      "   Preset[000:055] Orchestra Hit 2 bag(s) from #159\n",
      "   Preset[000:056] Trumpet 2 bag(s) from #161\n",
      "   Preset[000:057] Trombone 2 bag(s) from #163\n",
      "   Preset[000:058] Tuba 2 bag(s) from #165\n",
      "   Preset[000:059] Mute Trumpet 2 bag(s) from #167\n",
      "   Preset[000:061] Brass 2 bag(s) from #169\n",
      "   Preset[000:062] Synth Brass 1 2 bag(s) from #171\n",
      "   Preset[000:063] Synth Brass 2 2 bag(s) from #173\n",
      "   Preset[000:072] Piccolo 2 bag(s) from #175\n",
      "   Preset[000:074] Recorder 2 bag(s) from #177\n",
      "   Preset[000:076] Bottle Chiff 2 bag(s) from #179\n",
      "   Preset[000:077] Shakuhachi 2 bag(s) from #181\n",
      "   Preset[000:078] Whistle 2 bag(s) from #183\n",
      "   Preset[000:079] Ocarina 2 bag(s) from #185\n",
      "   Preset[000:080] Square Wave 3 bag(s) from #187\n",
      "   Preset[000:081] Saw Wave 3 bag(s) from #190\n",
      "   Preset[000:082] Synth Calliope 2 bag(s) from #193\n",
      "   Preset[000:083] Chiffer Lead 2 bag(s) from #195\n",
      "   Preset[000:084] Charang 2 bag(s) from #197\n",
      "   Preset[000:085] Solo Vox 2 bag(s) from #199\n",
      "   Preset[000:086] 5th Saw Wave 2 bag(s) from #201\n",
      "   Preset[000:087] Bass & Lead 2 bag(s) from #203\n",
      "   Preset[000:088] Fantasia 5 bag(s) from #205\n",
      "   Preset[000:089] Warm Pad 2 bag(s) from #210\n",
      "   Preset[000:090] Poly Synth 2 bag(s) from #212\n",
      "   Preset[000:091] Space Voice 2 bag(s) from #214\n",
      "   Preset[000:092] Bowed Glass 3 bag(s) from #216\n",
      "   Preset[000:093] Metal Pad 2 bag(s) from #219\n",
      "   Preset[000:094] Halo Pad 2 bag(s) from #221\n",
      "   Preset[000:095] Sweep Pad 2 bag(s) from #223\n",
      "   Preset[000:096] Ice Rain 2 bag(s) from #225\n",
      "   Preset[000:097] Soundtrack 2 bag(s) from #227\n",
      "   Preset[000:098] Crystal 2 bag(s) from #229\n",
      "   Preset[000:099] Atmosphere 2 bag(s) from #231\n",
      "   Preset[000:100] Brightness 2 bag(s) from #233\n",
      "   Preset[000:101] Goblin 2 bag(s) from #235\n",
      "   Preset[000:102] Echo Drops 2 bag(s) from #237\n",
      "   Preset[000:103] Star Theme 2 bag(s) from #239\n",
      "   Preset[000:104] Sitar 2 bag(s) from #241\n",
      "   Preset[000:105] Banjo 2 bag(s) from #243\n",
      "   Preset[000:106] Shamisen 2 bag(s) from #245\n",
      "   Preset[000:107] Koto 2 bag(s) from #247\n",
      "   Preset[000:108] Kalimba 2 bag(s) from #249\n",
      "   Preset[000:109] Bagpipe 2 bag(s) from #251\n",
      "   Preset[000:110] Fiddle 2 bag(s) from #253\n",
      "   Preset[000:111] Shenai 2 bag(s) from #255\n",
      "   Preset[000:112] Tinker Bell 2 bag(s) from #257\n",
      "   Preset[000:113] Agogo 2 bag(s) from #259\n",
      "   Preset[000:114] Steel Drum 2 bag(s) from #261\n",
      "   Preset[000:115] Wood Block 2 bag(s) from #263\n",
      "   Preset[000:116] Taiko Drum 2 bag(s) from #265\n",
      "   Preset[000:117] Melodic Tom 2 bag(s) from #267\n",
      "   Preset[000:118] Synth Drum 2 bag(s) from #269\n",
      "   Preset[000:119] Reverse Cymbal 2 bag(s) from #271\n",
      "   Preset[000:120] Fret Noise 2 bag(s) from #273\n",
      "   Preset[000:121] Breath Noise 2 bag(s) from #275\n",
      "   Preset[000:122] Seashore 2 bag(s) from #277\n",
      "   Preset[000:123] Bird 2 bag(s) from #279\n",
      "   Preset[000:124] Telephone 2 bag(s) from #281\n",
      "   Preset[000:125] Helicopter 2 bag(s) from #283\n",
      "   Preset[000:126] Applause 2 bag(s) from #285\n",
      "   Preset[000:127] Gun Shot 2 bag(s) from #287\n",
      "   Preset[000:006] Coupled Harpsichord 3 bag(s) from #289\n",
      "   Preset EOP\n"
     ]
    }
   ],
   "source": [
    "s = Session( ) # combines -> playback, recording and ability to move in time, change the tempo, etc.\n",
    "engraving_settings.show_microtonal_annotations = True\n",
    "s.fast_forward_to_beat(150)\n",
    "s.print_default_soundfont_presets()"
   ]
  },
  {
   "cell_type": "code",
   "execution_count": 4,
   "id": "d5814475-ddf8-452f-9669-d41e47fee8eb",
   "metadata": {},
   "outputs": [
    {
     "name": "stdout",
     "output_type": "stream",
     "text": [
      "Using preset Clarinet for clarinet\n",
      "Using preset Oboe for oboe\n",
      "Using preset Jazz Guitar for guitar\n",
      "Using preset Piano Merlin for piano\n",
      "Using preset Violin LP3 for violin\n",
      "Using preset Brass for brass\n",
      "Using preset Trumpet for trumpet\n",
      "Using preset Bassoon (Rea) for bassoon\n"
     ]
    }
   ],
   "source": [
    "clarinet = s.new_part(\"clarinet\")\n",
    "oboe = s.new_part(\"oboe\")\n",
    "guitar = s.new_part(\"guitar\")\n",
    "piano = s.new_part(\"piano\")\n",
    "violin = s.new_part(\"violin\")\n",
    "brass = s.new_part(\"brass\")\n",
    "trumpet = s.new_part(\"trumpet\")\n",
    "bassoon = s.new_part(\"bassoon\")\n",
    "\n"
   ]
  },
  {
   "cell_type": "code",
   "execution_count": 5,
   "id": "ef603214-85ae-49db-8252-28f63ec158dd",
   "metadata": {},
   "outputs": [],
   "source": [
    "instruments = [brass, clarinet, guitar, trumpet]"
   ]
  },
  {
   "cell_type": "code",
   "execution_count": 6,
   "id": "c79be900-170a-412c-af67-1ef7bb730bfd",
   "metadata": {},
   "outputs": [],
   "source": [
    "pitch_list = [40,43,47,55,52,54,52,50]\n",
    "volume = 0.8\n",
    "duration = [0.25, 0.25, 0.25, 0.25, 0.75, 0.5, 0.25, 0.25, 0.25]"
   ]
  },
  {
   "cell_type": "code",
   "execution_count": 7,
   "id": "e165e022-0a80-4190-b346-fd8561b2183c",
   "metadata": {},
   "outputs": [],
   "source": [
    "#oboe.play_note(np.mean(pitch_list), volume, len(pitch_list)*duration, blocking=False)\n",
    "for instrument in instruments:\n",
    "    for _ in range(1):\n",
    "        for i, pitch in enumerate(pitch_list):\n",
    "            instrument.play_note(pitch, volume, duration[i])\n",
    "            if i == 7: wait(0.25)\n",
    "            if i == 8: wait(0.75)"
   ]
  },
  {
   "cell_type": "code",
   "execution_count": 8,
   "id": "6e2a1fcb-d1c9-4350-bd46-7c2e10cf90ed",
   "metadata": {},
   "outputs": [
    {
     "data": {
      "image/png": "[encoded data removed]",
      "text/plain": [
       "<Figure size 640x480 with 1 Axes>"
      ]
     },
     "metadata": {},
     "output_type": "display_data"
    }
   ],
   "source": [
    "fp_cresc = Envelope.from_levels_and_durations([0.8,0.2,1.0], [0.3, 0.9]) # crescendo\n",
    "fp_cresc.show_plot() \n",
    "clarinet.play_chord([72, 60, 58, 50], fp_cresc, 3)"
   ]
  },
  {
   "cell_type": "markdown",
   "id": "eb2631e8-557f-4e41-ad33-00a70621edfa",
   "metadata": {},
   "source": [
    "## FORK"
   ]
  },
  {
   "cell_type": "code",
   "execution_count": 18,
   "id": "6de79558-916a-4960-ab6a-e4626220340e",
   "metadata": {},
   "outputs": [],
   "source": [
    "def beat_it_brass():\n",
    "    pitch_list = [40,43,47,55,52,54,52,50]\n",
    "    volume = 0.8\n",
    "    duration = [0.25, 0.25, 0.25, 0.25, 0.75, 0.5, 0.25, 0.25, 0.25]\n",
    "    for _ in range(3):\n",
    "        for i, pitch in enumerate(pitch_list):\n",
    "            brass.play_note(pitch, volume, duration[i])\n",
    "            if i == 7: wait(0.5)\n",
    "            if i == 8: wait(0.75)\n",
    "def beat_it_trumpet():\n",
    "    pitch_list = [71]*9+[74,71,74,71, 74]\n",
    "    volume = 0.8\n",
    "    duration = [0.25, 1.75, 0.25, 1.5, 0.5, 0.25, 0.25, 0.25, 0.25, 0.5, 0.25, 0.5, 0.25, 0.25]\n",
    "    \n",
    "    for i, pitch in enumerate(pitch_list):\n",
    "        if i in [9, 11]:\n",
    "            trumpet.play_note(pitch, volume, duration[i], \"staccato\")\n",
    "        else: \n",
    "            trumpet.play_note(pitch, volume, duration[i])\n",
    "        if i == 6:\n",
    "            current_clock().tempo = 120\n",
    "        \n"
   ]
  },
  {
   "cell_type": "code",
   "execution_count": 10,
   "id": "1ed5a28b-d69d-432d-acec-579c172849b5",
   "metadata": {},
   "outputs": [],
   "source": [
    "fork(beat_it_brass)\n",
    "beat_it_trumpet()"
   ]
  },
  {
   "cell_type": "markdown",
   "id": "0b21348f-d40d-4f67-8b67-8076b88db02e",
   "metadata": {},
   "source": [
    "## recording"
   ]
  },
  {
   "cell_type": "code",
   "execution_count": 19,
   "id": "a5709c6d-ec70-4671-a844-a1d9c77da2a1",
   "metadata": {
    "scrolled": true
   },
   "outputs": [],
   "source": [
    "s.start_transcribing()\n",
    "beat_it_brass()\n",
    "performance = s.stop_transcribing()\n",
    "#print(performance)\n",
    "performance.to_score().show_xml() \n",
    "# AFTER this opened, you can save it as .mid or .mp3 by goint to: file -> export\n"
   ]
  },
  {
   "cell_type": "code",
   "execution_count": null,
   "id": "01537996-54ca-4548-a423-4b3f24adca42",
   "metadata": {},
   "outputs": [],
   "source": []
  }
 ],
 "metadata": {
  "kernelspec": {
   "display_name": "Python 3 (ipykernel)",
   "language": "python",
   "name": "python3"
  },
  "language_info": {
   "codemirror_mode": {
    "name": "ipython",
    "version": 3
   },
   "file_extension": ".py",
   "mimetype": "text/x-python",
   "name": "python",
   "nbconvert_exporter": "python",
   "pygments_lexer": "ipython3",
   "version": "3.11.4"
  }
 },
 "nbformat": 4,
 "nbformat_minor": 5
}
